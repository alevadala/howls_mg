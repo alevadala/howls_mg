{
 "cells": [
  {
   "cell_type": "code",
   "execution_count": 1,
   "metadata": {},
   "outputs": [],
   "source": [
    "using QuadGK\n",
    "using DelimitedFiles\n",
    "using Trapz\n",
    "using Plots\n",
    "using Interpolations\n",
    "using PhysicalConstants.CODATA2018: c_0\n",
    "using SpecialFunctions: besselj1"
   ]
  },
  {
   "cell_type": "code",
   "execution_count": 2,
   "metadata": {},
   "outputs": [
    {
     "data": {
      "text/plain": [
       "67.31"
      ]
     },
     "metadata": {},
     "output_type": "display_data"
    }
   ],
   "source": [
    "# Define cosmological parameters for DUSTGRAIN-pathfinder simulations\n",
    "# as they appear in https://doi:10.1093/mnras/sty2465 for LCDM background\n",
    "Ω_b = 0.0481\n",
    "h = 0.6731\n",
    "H0 = h*100 # Hubble constant in km/s/Mpc"
   ]
  },
  {
   "cell_type": "code",
   "execution_count": 3,
   "metadata": {},
   "outputs": [
    {
     "data": {
      "text/plain": [
       "\"/home/alessandro/phd/scripts/Dustgrain_outs/Pknl/\""
      ]
     },
     "metadata": {},
     "output_type": "display_data"
    }
   ],
   "source": [
    "# Define input folders\n",
    "inpath = \"/home/alessandro/phd/scripts/Dustgrain_outs/\"\n",
    "pk_path = inpath*\"Pknl/\""
   ]
  },
  {
   "cell_type": "code",
   "execution_count": 4,
   "metadata": {},
   "outputs": [
    {
     "data": {
      "text/plain": [
       "\"HM\""
      ]
     },
     "metadata": {},
     "output_type": "display_data"
    }
   ],
   "source": [
    "# Selecting cosmology\n",
    "cosmo = \"lcdm\"\n",
    "method = \"HM\""
   ]
  },
  {
   "cell_type": "code",
   "execution_count": 5,
   "metadata": {},
   "outputs": [
    {
     "data": {
      "text/plain": [
       "\"LCDM\""
      ]
     },
     "metadata": {},
     "output_type": "display_data"
    }
   ],
   "source": [
    "# For lcdm\n",
    "Ω_m = 0.31345\n",
    "Ω_cdm = Ω_m - Ω_b\n",
    "Ω_de = 1 - Ω_m\n",
    "\n",
    "plot_label = \"LCDM\""
   ]
  },
  {
   "cell_type": "code",
   "execution_count": 6,
   "metadata": {},
   "outputs": [
    {
     "data": {
      "text/plain": [
       "100×1 Matrix{Float64}:\n",
       " 0.0\n",
       " 0.04040404040404041\n",
       " 0.08080808080808081\n",
       " 0.12121212121212122\n",
       " 0.16161616161616163\n",
       " 0.20202020202020204\n",
       " 0.24242424242424243\n",
       " 0.2828282828282829\n",
       " 0.32323232323232326\n",
       " 0.36363636363636365\n",
       " ⋮\n",
       " 3.676767676767677\n",
       " 3.7171717171717176\n",
       " 3.757575757575758\n",
       " 3.7979797979797985\n",
       " 3.8383838383838387\n",
       " 3.878787878787879\n",
       " 3.9191919191919196\n",
       " 3.95959595959596\n",
       " 4.0"
      ]
     },
     "metadata": {},
     "output_type": "display_data"
    }
   ],
   "source": [
    "# Load matter power spectrum from file (assuming it contains only P_kappa(ell) values)\n",
    "Pknl = readdlm(pk_path*\"$cosmo\"*\"_$method\"*\".txt\",',')\n",
    "k = readdlm(pk_path*\"k_\"*\"$cosmo\"*\"_$method\"*\".txt\",',')\n",
    "z = readdlm(pk_path*\"z_\"*\"$cosmo\"*\"_$method\"*\".txt\",',')"
   ]
  },
  {
   "cell_type": "code",
   "execution_count": 7,
   "metadata": {},
   "outputs": [
    {
     "data": {
      "text/plain": [
       "100×214 Matrix{Float64}:\n",
       " 332.158   458.249   632.13    …  7.40729e-5  3.6735e-5   1.82537e-5\n",
       " 318.293   439.122   605.746      6.6725e-5   3.30669e-5  1.64197e-5\n",
       " 304.949   420.713   580.352      6.04096e-5  2.99379e-5  1.487e-5\n",
       " 292.133   403.031   555.961      5.5003e-5   2.72509e-5  1.35275e-5\n",
       " 279.845   386.078   532.577      5.0345e-5   2.49335e-5  1.23741e-5\n",
       " 268.082   369.851   510.192   …  4.63436e-5  2.29292e-5  1.1376e-5\n",
       " 256.838   354.339   488.795      4.27931e-5  2.11859e-5  1.05079e-5\n",
       " 246.103   339.529   468.365      3.96632e-5  1.96313e-5  9.74025e-6\n",
       " 235.864   325.403   448.879      3.68947e-5  1.82586e-5  9.05671e-6\n",
       " 226.106   311.941   430.31       3.44337e-5  1.70386e-5  8.45174e-6\n",
       "   ⋮                           ⋱                          \n",
       "  24.2346   33.4356   46.1256     3.13792e-6  1.57632e-6  7.95546e-7\n",
       "  23.8248   32.8701   45.3456     3.08578e-6  1.55038e-6  7.82513e-7\n",
       "  23.4251   32.3188   44.585      3.0352e-6   1.52518e-6  7.69859e-7\n",
       "  23.0354   31.7811   43.8433     2.9858e-6   1.50054e-6  7.57508e-7\n",
       "  22.6552   31.2565   43.1197  …  2.93751e-6  1.47643e-6  7.45446e-7\n",
       "  22.2843   30.7448   42.4137     2.89049e-6  1.45289e-6  7.33699e-7\n",
       "  21.9223   30.2454   41.7248     2.84443e-6  1.42985e-6  7.22208e-7\n",
       "  21.569    29.758    41.0524     2.79924e-6  1.40734e-6  7.10971e-7\n",
       "  21.2241   29.2822   40.396      2.75514e-6  1.38549e-6  7.00038e-7"
      ]
     },
     "metadata": {},
     "output_type": "display_data"
    }
   ],
   "source": [
    "Pknl"
   ]
  },
  {
   "cell_type": "code",
   "execution_count": 58,
   "metadata": {},
   "outputs": [
    {
     "data": {
      "text/plain": [
       "2.0"
      ]
     },
     "metadata": {},
     "output_type": "display_data"
    }
   ],
   "source": [
    "# Sources redshift\n",
    "zs = 2.0"
   ]
  },
  {
   "cell_type": "code",
   "execution_count": 59,
   "metadata": {},
   "outputs": [
    {
     "data": {
      "text/plain": [
       "299792.458"
      ]
     },
     "metadata": {},
     "output_type": "display_data"
    }
   ],
   "source": [
    "# Speed of light in km/s\n",
    "# c = c_0/1e3\n",
    "c = 299792.458"
   ]
  },
  {
   "cell_type": "code",
   "execution_count": 60,
   "metadata": {},
   "outputs": [
    {
     "data": {
      "text/plain": [
       "r (generic function with 1 method)"
      ]
     },
     "metadata": {},
     "output_type": "display_data"
    }
   ],
   "source": [
    "# Dimemensionless Hubble parameter\n",
    "function E(z)\n",
    "    return sqrt(Ω_m * (1 + z)^3 + Ω_de)\n",
    "end\n",
    "\n",
    "# Comoving raidal distance r(z)\n",
    "function r(z)\n",
    "    integrand(z_prime) = 1 / E(z_prime)\n",
    "    result, _ = quadgk(integrand, 0.0, z)\n",
    "    return (c / H0) * result\n",
    "end"
   ]
  },
  {
   "cell_type": "code",
   "execution_count": 61,
   "metadata": {},
   "outputs": [
    {
     "data": {
      "text/plain": [
       "W_th (generic function with 1 method)"
      ]
     },
     "metadata": {},
     "output_type": "display_data"
    }
   ],
   "source": [
    "# Top-hat window function\n",
    "function W_th(ℓ, θ)\n",
    "    return 2 * besselj1(ℓ * θ) / (ℓ * θ)\n",
    "end"
   ]
  },
  {
   "cell_type": "code",
   "execution_count": 62,
   "metadata": {},
   "outputs": [
    {
     "data": {
      "text/plain": [
       "214-element Vector{Float64}:\n",
       "   2.265318050000001e-5\n",
       "   3.161506017351792e-5\n",
       "   4.412237079800598e-5\n",
       "   6.15777289099528e-5\n",
       "   8.593864357531304e-5\n",
       "   0.0001199370387687517\n",
       "   0.0001673856215337019\n",
       "   0.00023360545319319213\n",
       "   0.00032602267304428564\n",
       "   0.0004550012933603849\n",
       "   ⋮\n",
       "  80.40024101172071\n",
       " 100.40809774488754\n",
       " 125.39497352100194\n",
       " 156.5999131293512\n",
       " 195.570301611914\n",
       " 244.2385957199252\n",
       " 305.01815023844637\n",
       " 380.92289099782715\n",
       " 475.71676889624354"
      ]
     },
     "metadata": {},
     "output_type": "display_data"
    }
   ],
   "source": [
    "Pknl = Pknl/h^3\n",
    "k = k*h"
   ]
  },
  {
   "cell_type": "code",
   "execution_count": 63,
   "metadata": {},
   "outputs": [
    {
     "data": {
      "text/plain": [
       "214-element Vector{Float64}:\n",
       "   2.265318050000001e-5\n",
       "   3.161506017351792e-5\n",
       "   4.412237079800598e-5\n",
       "   6.15777289099528e-5\n",
       "   8.593864357531304e-5\n",
       "   0.0001199370387687517\n",
       "   0.0001673856215337019\n",
       "   0.00023360545319319213\n",
       "   0.00032602267304428564\n",
       "   0.0004550012933603849\n",
       "   ⋮\n",
       "  80.40024101172071\n",
       " 100.40809774488754\n",
       " 125.39497352100194\n",
       " 156.5999131293512\n",
       " 195.570301611914\n",
       " 244.2385957199252\n",
       " 305.01815023844637\n",
       " 380.92289099782715\n",
       " 475.71676889624354"
      ]
     },
     "metadata": {},
     "output_type": "display_data"
    }
   ],
   "source": [
    "z = vec(z)\n",
    "k = vec(k)"
   ]
  },
  {
   "cell_type": "code",
   "execution_count": 64,
   "metadata": {},
   "outputs": [
    {
     "data": {
      "text/plain": [
       "100×214 interpolate((::Vector{Float64},::Vector{Float64}), ::Matrix{Float64}, Gridded(Linear())) with element type Float64:\n",
       " 11711.9    16157.9   22289.0   30739.3   …  0.00129528   0.000643628\n",
       " 11223.1    15483.5   21358.7   29456.3      0.00116594   0.000578959\n",
       " 10752.5    14834.4   20463.3   28221.5      0.00105561   0.000524318\n",
       " 10300.6    14210.9   19603.3   27035.5      0.00096087   0.000476982\n",
       "  9867.35   13613.2   18778.7   25898.4      0.000879156  0.000436312\n",
       "  9452.61   13041.0   17989.4   24809.9   …  0.000808487  0.000401121\n",
       "  9056.15   12494.0   17235.0   23769.4      0.000747018  0.000370508\n",
       "  8677.63   11971.8   16514.6   22776.0      0.0006922    0.000343442\n",
       "  8316.59   11473.7   15827.5   21828.5      0.000643801  0.000319341\n",
       "  7972.53   10999.1   15172.8   20925.5      0.000600782  0.000298009\n",
       "     ⋮                                    ⋱               \n",
       "   854.515   1178.94   1626.39   2243.29     5.55812e-5   2.8051e-5\n",
       "   840.063   1159.0    1598.89   2205.35     5.46665e-5   2.75915e-5\n",
       "   825.973   1139.56   1572.07   2168.36     5.37779e-5   2.71453e-5\n",
       "   812.23    1120.6    1545.92   2132.29     5.29093e-5   2.67098e-5\n",
       "   798.825   1102.11   1520.4    2097.1   …  5.2059e-5    2.62845e-5\n",
       "   785.746   1084.07   1495.51   2062.77     5.12292e-5   2.58703e-5\n",
       "   772.983   1066.46   1471.22   2029.26     5.04168e-5   2.54651e-5\n",
       "   760.526   1049.27   1447.51   1996.56     4.96231e-5   2.50689e-5\n",
       "   748.365   1032.49   1424.37   1964.64     4.88526e-5   2.46834e-5"
      ]
     },
     "metadata": {},
     "output_type": "display_data"
    }
   ],
   "source": [
    "# Pzk = interpolate(Pknl, BSpline(Quadratic(Line(OnCell()))))\n",
    "Pzk = interpolate((z,k), Pknl, Gridded(Linear()))\n",
    "# Pzk = CubicSplineInterpolation(zk_nodes, Pknl)"
   ]
  },
  {
   "cell_type": "code",
   "execution_count": 65,
   "metadata": {},
   "outputs": [
    {
     "data": {
      "text/plain": [
       "κ_sm (generic function with 1 method)"
      ]
     },
     "metadata": {},
     "output_type": "display_data"
    }
   ],
   "source": [
    "# Smoothed convergence\n",
    "function κ_sm(z, θ_sm)\n",
    "    integrand(ℓ) = Pzk(z, (ℓ+0.5)/r(z)) * W_th(ℓ,θ_sm)^2 * ℓ\n",
    "    result, _ = quadgk(integrand, 1.0, 10000)\n",
    "    return 2 * π * result   \n",
    "end"
   ]
  },
  {
   "cell_type": "code",
   "execution_count": 86,
   "metadata": {},
   "outputs": [
    {
     "data": {
      "text/plain": [
       "305.81150300693673"
      ]
     },
     "metadata": {},
     "output_type": "display_data"
    }
   ],
   "source": [
    "κ_sm(5e-3, 10)"
   ]
  },
  {
   "cell_type": "code",
   "execution_count": 67,
   "metadata": {},
   "outputs": [
    {
     "data": {
      "text/plain": [
       "W (generic function with 1 method)"
      ]
     },
     "metadata": {},
     "output_type": "display_data"
    }
   ],
   "source": [
    "# Lensing efficiency\n",
    "function W(z)\n",
    "    return 1.5 * Ω_m * (H0/c)^2 * (1+z) * r(z) * (1-(r(z)/r(zs)))\n",
    "end"
   ]
  },
  {
   "cell_type": "code",
   "execution_count": 75,
   "metadata": {},
   "outputs": [
    {
     "data": {
      "text/plain": [
       "-7.590475058759298e-5"
      ]
     },
     "metadata": {},
     "output_type": "display_data"
    }
   ],
   "source": [
    "W(2.6)"
   ]
  },
  {
   "cell_type": "code",
   "execution_count": 87,
   "metadata": {},
   "outputs": [
    {
     "data": {
      "text/plain": [
       "C (generic function with 1 method)"
      ]
     },
     "metadata": {},
     "output_type": "display_data"
    }
   ],
   "source": [
    "# Moments functional\n",
    "function C(θ_sm, t)\n",
    "    integrand(z) = W(z)^t * κ_sm(z,θ_sm)^(t-1) / E(z) / r(z)^(2*(t-1))\n",
    "    result, _ = quadgk(integrand, 5e-3 , zs)\n",
    "    return (c/H0) * result\n",
    "end"
   ]
  },
  {
   "cell_type": "code",
   "execution_count": 88,
   "metadata": {},
   "outputs": [
    {
     "data": {
      "text/plain": [
       "50"
      ]
     },
     "metadata": {},
     "output_type": "display_data"
    }
   ],
   "source": [
    "# Smoothing radius range\n",
    "θ_s = range(2,stop=20,length=50)\n",
    "length(θ_s)"
   ]
  },
  {
   "cell_type": "code",
   "execution_count": 89,
   "metadata": {},
   "outputs": [
    {
     "data": {
      "text/plain": [
       "50-element Vector{Float64}:\n",
       " 0.0\n",
       " 0.0\n",
       " 0.0\n",
       " 0.0\n",
       " 0.0\n",
       " 0.0\n",
       " 0.0\n",
       " 0.0\n",
       " 0.0\n",
       " 0.0\n",
       " ⋮\n",
       " 0.0\n",
       " 0.0\n",
       " 0.0\n",
       " 0.0\n",
       " 0.0\n",
       " 0.0\n",
       " 0.0\n",
       " 0.0\n",
       " 0.0"
      ]
     },
     "metadata": {},
     "output_type": "display_data"
    }
   ],
   "source": [
    "# Functional for the second κ moment\n",
    "C_2 = zeros(length(θ_s))"
   ]
  },
  {
   "cell_type": "code",
   "execution_count": 90,
   "metadata": {},
   "outputs": [],
   "source": [
    "\n",
    "for (i,θ) in enumerate(θ_s)\n",
    "    C_2[i] = C(θ,2)\n",
    "end\n",
    "\n",
    "C_2"
   ]
  },
  {
   "cell_type": "code",
   "execution_count": null,
   "metadata": {},
   "outputs": [],
   "source": [
    "# Second moment\n",
    "Q2 = 1\n",
    "κ_2 = Q2*C_2"
   ]
  },
  {
   "cell_type": "code",
   "execution_count": null,
   "metadata": {},
   "outputs": [],
   "source": []
  }
 ],
 "metadata": {
  "kernelspec": {
   "display_name": "Julia 1.10.2",
   "language": "julia",
   "name": "julia-1.10"
  },
  "language_info": {
   "file_extension": ".jl",
   "mimetype": "application/julia",
   "name": "julia",
   "version": "1.10.2"
  }
 },
 "nbformat": 4,
 "nbformat_minor": 2
}
