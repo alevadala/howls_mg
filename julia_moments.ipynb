{
 "cells": [
  {
   "cell_type": "code",
   "execution_count": null,
   "metadata": {},
   "outputs": [],
   "source": [
    "using QuadGK\n",
    "using DelimitedFiles\n",
    "using Trapz\n",
    "using Plots\n",
    "using Interpolations\n",
    "using PhysicalConstants.CODATA2018: c_0\n",
    "using SpecialFunctions: besselj1"
   ]
  },
  {
   "cell_type": "code",
   "execution_count": null,
   "metadata": {},
   "outputs": [],
   "source": [
    "# Define cosmological parameters for DUSTGRAIN-pathfinder simulations\n",
    "# as they appear in https://doi:10.1093/mnras/sty2465 for LCDM background\n",
    "Ω_b = 0.0481\n",
    "h = 0.6731\n",
    "H0 = h*100 # Hubble constant in km/s/Mpc"
   ]
  },
  {
   "cell_type": "code",
   "execution_count": null,
   "metadata": {},
   "outputs": [],
   "source": [
    "# Define input folders\n",
    "inpath = \"/home/alessandro/phd/scripts/Dustgrain_outs/\"\n",
    "pk_path = inpath*\"Pknl/\""
   ]
  },
  {
   "cell_type": "code",
   "execution_count": null,
   "metadata": {},
   "outputs": [],
   "source": [
    "# Selecting cosmology\n",
    "cosmo = \"lcdm\"\n",
    "method = \"HM\""
   ]
  },
  {
   "cell_type": "code",
   "execution_count": null,
   "metadata": {},
   "outputs": [],
   "source": [
    "# For lcdm\n",
    "Ω_m = 0.31345\n",
    "Ω_cdm = Ω_m - Ω_b\n",
    "Ω_de = 1 - Ω_m\n",
    "\n",
    "plot_label = \"LCDM\""
   ]
  },
  {
   "cell_type": "code",
   "execution_count": null,
   "metadata": {},
   "outputs": [],
   "source": [
    "# Load matter power spectrum from file (assuming it contains only P_kappa(ell) values)\n",
    "Pknl = readdlm(pk_path*\"$cosmo\"*\"_$method\"*\".txt\",',')\n",
    "k = readdlm(pk_path*\"k_\"*\"$cosmo\"*\"_$method\"*\".txt\",',')\n",
    "z = readdlm(pk_path*\"z_\"*\"$cosmo\"*\"_$method\"*\".txt\",',')"
   ]
  },
  {
   "cell_type": "code",
   "execution_count": null,
   "metadata": {},
   "outputs": [],
   "source": [
    "Pknl"
   ]
  },
  {
   "cell_type": "code",
   "execution_count": null,
   "metadata": {},
   "outputs": [],
   "source": [
    "# Sources redshift\n",
    "zs = 2.0"
   ]
  },
  {
   "cell_type": "code",
   "execution_count": null,
   "metadata": {},
   "outputs": [],
   "source": [
    "# Speed of light in km/s\n",
    "# c = c_0/1e3\n",
    "c = 299792.458"
   ]
  },
  {
   "cell_type": "code",
   "execution_count": null,
   "metadata": {},
   "outputs": [],
   "source": [
    "# Dimemensionless Hubble parameter\n",
    "function E(z)\n",
    "    return sqrt(Ω_m * (1 + z)^3 + Ω_de)\n",
    "end\n",
    "\n",
    "# Comoving raidal distance r(z)\n",
    "function r(z)\n",
    "    integrand(z_prime) = 1 / E(z_prime)\n",
    "    result, _ = quadgk(integrand, 0.0, z)\n",
    "    return (c / H0) * result\n",
    "end"
   ]
  },
  {
   "cell_type": "code",
   "execution_count": null,
   "metadata": {},
   "outputs": [],
   "source": [
    "# Top-hat window function\n",
    "function W_th(ℓ, θ)\n",
    "    return 2 * besselj1(ℓ * θ) / (ℓ * θ)\n",
    "end"
   ]
  },
  {
   "cell_type": "code",
   "execution_count": null,
   "metadata": {},
   "outputs": [],
   "source": [
    "Pknl = Pknl/h^3\n",
    "k = k*h"
   ]
  },
  {
   "cell_type": "code",
   "execution_count": null,
   "metadata": {},
   "outputs": [],
   "source": [
    "z = vec(z)\n",
    "k = vec(k)"
   ]
  },
  {
   "cell_type": "code",
   "execution_count": null,
   "metadata": {},
   "outputs": [],
   "source": [
    "# Pzk = interpolate(Pknl, BSpline(Quadratic(Line(OnCell()))))\n",
    "Pzk = interpolate((z,k), Pknl, Gridded(Linear()))\n",
    "# Pzk = CubicSplineInterpolation(zk_nodes, Pknl)"
   ]
  },
  {
   "cell_type": "code",
   "execution_count": null,
   "metadata": {},
   "outputs": [],
   "source": [
    "# Smoothed convergence\n",
    "function κ_sm(z, θ_sm)\n",
    "    integrand(ℓ) = Pzk(z, (ℓ+0.5)/r(z)) * W_th(ℓ,θ_sm)^2 * ℓ\n",
    "    result, _ = quadgk(integrand, 1.0, 10000)\n",
    "    return 2 * π * result   \n",
    "end"
   ]
  },
  {
   "cell_type": "code",
   "execution_count": null,
   "metadata": {},
   "outputs": [],
   "source": [
    "κ_sm(5e-3, 10)"
   ]
  },
  {
   "cell_type": "code",
   "execution_count": null,
   "metadata": {},
   "outputs": [],
   "source": [
    "# Lensing efficiency\n",
    "function W(z)\n",
    "    return 1.5 * Ω_m * (H0/c)^2 * (1+z) * r(z) * (1-(r(z)/r(zs)))\n",
    "end"
   ]
  },
  {
   "cell_type": "code",
   "execution_count": null,
   "metadata": {},
   "outputs": [],
   "source": [
    "W(2.6)"
   ]
  },
  {
   "cell_type": "code",
   "execution_count": null,
   "metadata": {},
   "outputs": [],
   "source": [
    "# Moments functional\n",
    "function C(θ_sm, t)\n",
    "    integrand(z) = W(z)^t * κ_sm(z,θ_sm)^(t-1) / E(z) / r(z)^(2*(t-1))\n",
    "    result, _ = quadgk(integrand, 5e-3 , zs)\n",
    "    return (c/H0) * result\n",
    "end"
   ]
  },
  {
   "cell_type": "code",
   "execution_count": null,
   "metadata": {},
   "outputs": [],
   "source": [
    "# Smoothing radius range\n",
    "θ_s = range(2,stop=20,length=50)\n",
    "length(θ_s)"
   ]
  },
  {
   "cell_type": "code",
   "execution_count": null,
   "metadata": {},
   "outputs": [],
   "source": [
    "# Functional for the second κ moment\n",
    "C_2 = zeros(length(θ_s))"
   ]
  },
  {
   "cell_type": "code",
   "execution_count": null,
   "metadata": {},
   "outputs": [],
   "source": [
    "\n",
    "for (i,θ) in enumerate(θ_s)\n",
    "    C_2[i] = C(θ,2)\n",
    "end\n",
    "\n",
    "C_2"
   ]
  },
  {
   "cell_type": "code",
   "execution_count": null,
   "metadata": {},
   "outputs": [],
   "source": [
    "# Second moment\n",
    "Q2 = 1\n",
    "κ_2 = Q2*C_2"
   ]
  },
  {
   "cell_type": "code",
   "execution_count": null,
   "metadata": {},
   "outputs": [],
   "source": []
  }
 ],
 "metadata": {
  "kernelspec": {
   "display_name": "Julia 1.10.4",
   "language": "julia",
   "name": "julia-1.10"
  },
  "language_info": {
   "file_extension": ".jl",
   "mimetype": "application/julia",
   "name": "julia",
   "version": "1.10.4"
  }
 },
 "nbformat": 4,
 "nbformat_minor": 2
}
